{
 "cells": [
  {
   "cell_type": "code",
   "execution_count": 2,
   "metadata": {},
   "outputs": [],
   "source": [
    "file = open(\"fcs.txt\",\"w\")\n",
    "file.write(\"Hey we are loving the class\")\n",
    "file.close()"
   ]
  },
  {
   "cell_type": "code",
   "execution_count": 3,
   "metadata": {},
   "outputs": [
    {
     "name": "stdout",
     "output_type": "stream",
     "text": [
      "Your Error -  not writable\n",
      "I am Finally : I will print no matter who wins in my above brothers\n"
     ]
    }
   ],
   "source": [
    "\n",
    "try:\n",
    "    file = open(\"fcs.txt\",\"r\")\n",
    "    file.write(\"Hey we are loving the class\")\n",
    "    file.close()\n",
    "    print(\"try is working fine\")\n",
    "    \n",
    "except Exception as e:\n",
    "    print(\"Your Error - \", e)\n",
    "else:\n",
    "    print(\"I am else block \")\n",
    "finally:\n",
    "    print(\"I am Finally : I will print no matter who wins in my above brothers\")\n",
    " "
   ]
  },
  {
   "cell_type": "markdown",
   "metadata": {},
   "source": [
    "# FIBONACCI SERIES USING DECORATOR"
   ]
  },
  {
   "cell_type": "code",
   "execution_count": 4,
   "metadata": {},
   "outputs": [],
   "source": [
    "def smart_fibo(num):\n",
    "    def Fibonacci(n):\n",
    "        \n",
    "        if n<=0:\n",
    "            print(\"Incorrect input\")\n",
    "    \n",
    "        elif n==1:\n",
    "            return 0\n",
    "\n",
    "        elif n==2:\n",
    "            return 1\n",
    "        else:\n",
    "            \n",
    "            return Fibonacci(n-1)+Fibonacci(n-2)\n",
    "            return num(n)\n",
    "    return Fibonacci\n",
    "\n",
    "\n",
    "\n",
    "\n",
    "\n",
    "\n",
    "    "
   ]
  },
  {
   "cell_type": "code",
   "execution_count": 6,
   "metadata": {},
   "outputs": [],
   "source": [
    "@smart_fibo\n",
    "def fibo(n):\n",
    "    print(\"The number is\",n)\n",
    "    "
   ]
  },
  {
   "cell_type": "code",
   "execution_count": 7,
   "metadata": {},
   "outputs": [
    {
     "data": {
      "text/plain": [
       "13"
      ]
     },
     "execution_count": 7,
     "metadata": {},
     "output_type": "execute_result"
    }
   ],
   "source": [
    "fibo(8)\n"
   ]
  },
  {
   "cell_type": "code",
   "execution_count": null,
   "metadata": {},
   "outputs": [],
   "source": []
  },
  {
   "cell_type": "code",
   "execution_count": null,
   "metadata": {},
   "outputs": [],
   "source": []
  },
  {
   "cell_type": "code",
   "execution_count": null,
   "metadata": {},
   "outputs": [],
   "source": []
  },
  {
   "cell_type": "code",
   "execution_count": null,
   "metadata": {},
   "outputs": [],
   "source": []
  },
  {
   "cell_type": "code",
   "execution_count": null,
   "metadata": {},
   "outputs": [],
   "source": []
  }
 ],
 "metadata": {
  "kernelspec": {
   "display_name": "Python 3",
   "language": "python",
   "name": "python3"
  },
  "language_info": {
   "codemirror_mode": {
    "name": "ipython",
    "version": 3
   },
   "file_extension": ".py",
   "mimetype": "text/x-python",
   "name": "python",
   "nbconvert_exporter": "python",
   "pygments_lexer": "ipython3",
   "version": "3.7.6"
  }
 },
 "nbformat": 4,
 "nbformat_minor": 4
}
